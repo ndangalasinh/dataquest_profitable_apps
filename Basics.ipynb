{
 "cells": [
  {
   "cell_type": "markdown",
   "metadata": {},
   "source": [
    "# IMPACT OF APPS\n",
    "* This note book will be anylsing the impact of different apps to the users, how does the user like the apps we create.\n",
    "* The aim here is to point our engineers in correct direction as they develop new apps, we want our apps to be liked by our users."
   ]
  },
  {
   "cell_type": "code",
   "execution_count": 16,
   "metadata": {},
   "outputs": [
    {
     "name": "stdout",
     "output_type": "stream",
     "text": [
      "['App', 'Category', 'Rating', 'Reviews', 'Size', 'Installs', 'Type', 'Price', 'Content Rating', 'Genres', 'Last Updated', 'Current Ver', 'Android Ver']\n",
      "['id', 'track_name', 'size_bytes', 'currency', 'price', 'rating_count_tot', 'rating_count_ver', 'user_rating', 'user_rating_ver', 'ver', 'cont_rating', 'prime_genre', 'sup_devices.num', 'ipadSc_urls.num', 'lang.num', 'vpp_lic']\n"
     ]
    }
   ],
   "source": [
    "opened_file_ios = open('AppleStore.csv')\n",
    "from csv import reader\n",
    "read_file_ios = reader(opened_file_ios)\n",
    "ios_data = list(read_file_ios)\n",
    "\n",
    "opened_file_google = open('googleplaystore.csv')\n",
    "from csv import reader\n",
    "read_file_google = reader(opened_file_google)\n",
    "google_data = list(read_file_google)\n",
    "\n",
    "print(google_data[0])\n",
    "print(ios_data[0])"
   ]
  },
  {
   "cell_type": "code",
   "execution_count": 17,
   "metadata": {},
   "outputs": [
    {
     "name": "stdout",
     "output_type": "stream",
     "text": [
      "['id', 'track_name', 'size_bytes', 'currency', 'price', 'rating_count_tot', 'rating_count_ver', 'user_rating', 'user_rating_ver', 'ver', 'cont_rating', 'prime_genre', 'sup_devices.num', 'ipadSc_urls.num', 'lang.num', 'vpp_lic']\n",
      "\n",
      "\n",
      "['284882215', 'Facebook', '389879808', 'USD', '0.0', '2974676', '212', '3.5', '3.5', '95.0', '4+', 'Social Networking', '37', '1', '29', '1']\n",
      "\n",
      "\n",
      "['389801252', 'Instagram', '113954816', 'USD', '0.0', '2161558', '1289', '4.5', '4.0', '10.23', '12+', 'Photo & Video', '37', '0', '29', '1']\n",
      "\n",
      "\n",
      "['529479190', 'Clash of Clans', '116476928', 'USD', '0.0', '2130805', '579', '4.5', '4.5', '9.24.12', '9+', 'Games', '38', '5', '18', '1']\n",
      "\n",
      "\n",
      "['420009108', 'Temple Run', '65921024', 'USD', '0.0', '1724546', '3842', '4.5', '4.0', '1.6.2', '9+', 'Games', '40', '5', '1', '1']\n",
      "\n",
      "\n",
      "['284035177', 'Pandora - Music & Radio', '130242560', 'USD', '0.0', '1126879', '3594', '4.0', '4.5', '8.4.1', '12+', 'Music', '37', '4', '1', '1']\n",
      "\n",
      "\n",
      "7197\n",
      "['id', 'track_name', 'size_bytes', 'currency', 'price', 'rating_count_tot', 'rating_count_ver', 'user_rating', 'user_rating_ver', 'ver', 'cont_rating', 'prime_genre', 'sup_devices.num', 'ipadSc_urls.num', 'lang.num', 'vpp_lic']\n"
     ]
    }
   ],
   "source": [
    "def explore_data(dataset,start,end):\n",
    "    slice_data = dataset[start : end]\n",
    "   \n",
    "    for row in slice_data:\n",
    "        print(row)\n",
    "        print('\\n')\n",
    "    length_data = len(dataset) - 1\n",
    "    print(length_data)\n",
    "\n",
    "#explore_data(google_data,0,6)\n",
    "\n",
    "explore_data(ios_data,0,6)\n",
    "\n",
    "\n",
    "#print(google_data[0])\n",
    "print(ios_data[0])"
   ]
  },
  {
   "cell_type": "code",
   "execution_count": 18,
   "metadata": {},
   "outputs": [
    {
     "name": "stdout",
     "output_type": "stream",
     "text": [
      "['Life Made WI-Fi Touchscreen Photo Frame', '1.9', '19', '3.0M', '1,000+', 'Free', '0', 'Everyone', '', 'February 11, 2018', '1.0.19', '4.0 and up']\n"
     ]
    }
   ],
   "source": [
    "print(google_data[10473])"
   ]
  },
  {
   "cell_type": "code",
   "execution_count": 19,
   "metadata": {
    "collapsed": true
   },
   "outputs": [],
   "source": [
    "del google_data[10473]"
   ]
  },
  {
   "cell_type": "code",
   "execution_count": 20,
   "metadata": {},
   "outputs": [
    {
     "name": "stdout",
     "output_type": "stream",
     "text": [
      "['osmino Wi-Fi: free WiFi', 'TOOLS', '4.2', '134203', '4.1M', '10,000,000+', 'Free', '0', 'Everyone', 'Tools', 'August 7, 2018', '6.06.14', '4.4 and up']\n"
     ]
    }
   ],
   "source": [
    "print(google_data[10473])\n"
   ]
  },
  {
   "cell_type": "markdown",
   "metadata": {},
   "source": [
    "# There is some errors on the data that include multiples"
   ]
  },
  {
   "cell_type": "markdown",
   "metadata": {},
   "source": [
    "See bellow some multiples"
   ]
  },
  {
   "cell_type": "code",
   "execution_count": 21,
   "metadata": {},
   "outputs": [
    {
     "name": "stdout",
     "output_type": "stream",
     "text": [
      "1181\n",
      "['Quick PDF Scanner + OCR FREE', 'Box', 'Google My Business', 'ZOOM Cloud Meetings', 'join.me - Simple Meetings', 'Box', 'Zenefits']\n"
     ]
    }
   ],
   "source": [
    "duplicate_apps = []\n",
    "unique_apps = []\n",
    "for row in google_data:\n",
    "    name_of_app = row[0]\n",
    "    if name_of_app in unique_apps:\n",
    "        duplicate_apps.append(name_of_app)\n",
    "    else:\n",
    "        unique_apps.append(name_of_app)\n",
    "        \n",
    "print(len(duplicate_apps))\n",
    "print(duplicate_apps[:7])"
   ]
  },
  {
   "cell_type": "markdown",
   "metadata": {},
   "source": [
    "## Removing the duplicates we will choose the most recent entries and delete the old ones."
   ]
  },
  {
   "cell_type": "code",
   "execution_count": 22,
   "metadata": {},
   "outputs": [
    {
     "name": "stdout",
     "output_type": "stream",
     "text": [
      "9659\n"
     ]
    }
   ],
   "source": [
    "reviews_max = {}\n",
    "for row in google_data[1:]:\n",
    "    name = row[0]\n",
    "    n_reviews = float(row[3])\n",
    "    if name in reviews_max and reviews_max[name] < n_reviews:\n",
    "        reviews_max[name] = n_reviews\n",
    "    elif name not in reviews_max:\n",
    "        reviews_max[name] = n_reviews\n",
    "print(len(reviews_max))\n",
    "        \n",
    "    \n",
    "\n",
    "    "
   ]
  },
  {
   "cell_type": "code",
   "execution_count": 23,
   "metadata": {},
   "outputs": [
    {
     "name": "stdout",
     "output_type": "stream",
     "text": [
      "[['Photo Editor & Candy Camera & Grid & ScrapBook', 'ART_AND_DESIGN', '4.1', '159', '19M', '10,000+', 'Free', '0', 'Everyone', 'Art & Design', 'January 7, 2018', '1.0.0', '4.0.3 and up'], ['U Launcher Lite – FREE Live Cool Themes, Hide Apps', 'ART_AND_DESIGN', '4.7', '87510', '8.7M', '5,000,000+', 'Free', '0', 'Everyone', 'Art & Design', 'August 1, 2018', '1.2.4', '4.0.3 and up'], ['Sketch - Draw & Paint', 'ART_AND_DESIGN', '4.5', '215644', '25M', '50,000,000+', 'Free', '0', 'Teen', 'Art & Design', 'June 8, 2018', 'Varies with device', '4.2 and up']]\n"
     ]
    }
   ],
   "source": [
    "android_clean = []\n",
    "already_added = []\n",
    "for row in google_data[1:]:\n",
    "    name = row[0]\n",
    "    n_reviews = float(row[3])\n",
    "    if (n_reviews == reviews_max[name]) and name not in already_added:\n",
    "        android_clean.append(row)\n",
    "        already_added.append(name)\n",
    "print(android_clean[0:3])\n",
    "    "
   ]
  },
  {
   "cell_type": "markdown",
   "metadata": {
    "collapsed": true
   },
   "source": [
    "# Eliminating non English Apps\n",
    "*Some of the apps in this data set are not having English Names this says a lot about the audience it is directed to, since we want to analyse data for the English speaking population then ** we need to eliminate the non English speaking targeting apps ** *\n",
    "\n",
    "## To do this we will\n",
    "* We will go throught each app_name\n",
    "* Check if the name contain any charachter out of the English character range (i.e the 0-127 ASCII code)\n",
    "* Eliminate anything out of the specified range."
   ]
  },
  {
   "cell_type": "markdown",
   "metadata": {},
   "source": [
    "## This is the code for the fucntion that will be used to filter apps\n",
    "* Mind you that the function has been modified to torelate about 3 foreign characters"
   ]
  },
  {
   "cell_type": "code",
   "execution_count": 24,
   "metadata": {},
   "outputs": [],
   "source": [
    "def check_if_its_english(string):\n",
    "    count = 0\n",
    "    for char in string:\n",
    "        if ord(char) > 127:\n",
    "            count += 1\n",
    "    if count > 3:\n",
    "        return False\n",
    "    return True"
   ]
  },
  {
   "cell_type": "markdown",
   "metadata": {},
   "source": [
    "## Here we are incorporating the function in the datasets"
   ]
  },
  {
   "cell_type": "code",
   "execution_count": 25,
   "metadata": {},
   "outputs": [
    {
     "name": "stdout",
     "output_type": "stream",
     "text": [
      "9614\n",
      "6183\n"
     ]
    }
   ],
   "source": [
    "english_apps_google = []\n",
    "\n",
    "for row in android_clean:\n",
    "    if check_if_its_english(row[0]):\n",
    "        english_apps_google.append(row)\n",
    "\n",
    "        \n",
    "english_apps_ios = []\n",
    "\n",
    "for row in ios_data[1:]:\n",
    "    if check_if_its_english(row[1]):\n",
    "        english_apps_ios.append(row)\n",
    "print(len(english_apps_google))\n",
    "print(len(english_apps_ios))"
   ]
  },
  {
   "cell_type": "code",
   "execution_count": 26,
   "metadata": {},
   "outputs": [
    {
     "name": "stdout",
     "output_type": "stream",
     "text": [
      "['284882215', 'Facebook', '389879808', 'USD', '0.0', '2974676', '212', '3.5', '3.5', '95.0', '4+', 'Social Networking', '37', '1', '29', '1']\n"
     ]
    }
   ],
   "source": [
    "print(english_apps_ios[0])"
   ]
  },
  {
   "cell_type": "markdown",
   "metadata": {},
   "source": [
    "# Eliminating the free apps\n",
    "## Our focus is to filter the paid apps\n",
    "\n",
    "* We will filter the free apps and add them to the new list."
   ]
  },
  {
   "cell_type": "code",
   "execution_count": 27,
   "metadata": {},
   "outputs": [
    {
     "name": "stdout",
     "output_type": "stream",
     "text": [
      "8864 3222\n"
     ]
    }
   ],
   "source": [
    "google_data_filtered =[]\n",
    "for row in english_apps_google:\n",
    "    price = row[7]\n",
    "    if price == '0':\n",
    "          google_data_filtered.append(row)\n",
    "ios_data_filtered =[]\n",
    "for row in english_apps_ios:\n",
    "    price = float(row[4])\n",
    "    if price == 0.0:\n",
    "          ios_data_filtered.append(row)\n",
    "            \n",
    "print(len(google_data_filtered),len(ios_data_filtered))        "
   ]
  },
  {
   "cell_type": "markdown",
   "metadata": {},
   "source": [
    "# For the next stage we are going to analyse our data to find more successful profiles.\n",
    "## We are writing a function that will create frequency tables for iOs and androig."
   ]
  },
  {
   "cell_type": "code",
   "execution_count": 52,
   "metadata": {},
   "outputs": [
    {
     "name": "stdout",
     "output_type": "stream",
     "text": [
      "18.907942238267147 : FAMILY\n",
      "9.724729241877256 : GAME\n",
      "8.461191335740072 : TOOLS\n",
      "4.591606498194946 : BUSINESS\n",
      "3.9034296028880866 : LIFESTYLE\n",
      "3.892148014440433 : PRODUCTIVITY\n",
      "3.7003610108303246 : FINANCE\n",
      "3.531137184115524 : MEDICAL\n",
      "3.395758122743682 : SPORTS\n",
      "3.3167870036101084 : PERSONALIZATION\n",
      "3.2378158844765346 : COMMUNICATION\n",
      "3.0798736462093865 : HEALTH_AND_FITNESS\n",
      "2.944494584837545 : PHOTOGRAPHY\n",
      "2.7978339350180503 : NEWS_AND_MAGAZINES\n",
      "2.6624548736462095 : SOCIAL\n",
      "2.33528880866426 : TRAVEL_AND_LOCAL\n",
      "2.2450361010830324 : SHOPPING\n",
      "2.1435018050541514 : BOOKS_AND_REFERENCE\n",
      "1.861462093862816 : DATING\n",
      "1.7937725631768955 : VIDEO_PLAYERS\n",
      "1.3989169675090252 : MAPS_AND_NAVIGATION\n",
      "1.2409747292418771 : FOOD_AND_DRINK\n",
      "1.1620036101083033 : EDUCATION\n",
      "0.9589350180505415 : ENTERTAINMENT\n",
      "0.9363718411552346 : LIBRARIES_AND_DEMO\n",
      "0.9250902527075812 : AUTO_AND_VEHICLES\n",
      "0.8235559566787004 : HOUSE_AND_HOME\n",
      "0.8009927797833934 : WEATHER\n",
      "0.7107400722021661 : EVENTS\n",
      "0.6543321299638989 : PARENTING\n",
      "0.6430505415162455 : ART_AND_DESIGN\n",
      "0.6204873646209386 : COMICS\n",
      "0.5979241877256317 : BEAUTY\n"
     ]
    }
   ],
   "source": [
    "\n",
    "def freq_table(dataset,index):\n",
    "    freq_table = {}\n",
    "    total = 0\n",
    "    for row in dataset:\n",
    "        total += 1\n",
    "        genre = row[index]\n",
    "        if genre in freq_table:\n",
    "            freq_table[genre] += 1\n",
    "\n",
    "        else: \n",
    "            freq_table[genre] = 1\n",
    "    percentage_table = {}\n",
    "    for row in freq_table:\n",
    "        percentage= (freq_table[row]/total) *100\n",
    "        percentage_table[row] = percentage\n",
    "    return percentage_table\n",
    "def display_perc_table(dataset, index):\n",
    "    table = freq_table(dataset,index)\n",
    "    table_display = []\n",
    "    for row in table:\n",
    "        key_val_as_tuple =(table[row],row)\n",
    "        table_display.append(key_val_as_tuple)\n",
    "    table_sorted = sorted(table_display, reverse= True)\n",
    "    for row in table_sorted:\n",
    "        print(row[0],':',row[1])\n",
    "\n",
    "display_perc_table(google_data_filtered,1)"
   ]
  },
  {
   "cell_type": "code",
   "execution_count": 60,
   "metadata": {},
   "outputs": [
    {
     "name": "stdout",
     "output_type": "stream",
     "text": [
      "Photo & Video : 28441.54375\n",
      "Catalogs : 4004.0\n",
      "Finance : 31467.944444444445\n",
      "Productivity : 21028.410714285714\n",
      "Book : 39758.5\n",
      "Sports : 23008.898550724636\n",
      "Games : 22788.6696905016\n",
      "Reference : 74942.11111111111\n",
      "Food & Drink : 33333.92307692308\n",
      "Music : 57326.530303030304\n",
      "Business : 7491.117647058823\n",
      "Navigation : 86090.33333333333\n",
      "Travel : 28243.8\n",
      "Utilities : 18684.456790123455\n",
      "Weather : 52279.892857142855\n",
      "Education : 7003.983050847458\n",
      "Entertainment : 14029.830708661417\n",
      "Health & Fitness : 23298.015384615384\n",
      "Medical : 612.0\n",
      "Lifestyle : 16485.764705882353\n",
      "News : 21248.023255813954\n",
      "Social Networking : 71548.34905660378\n",
      "Shopping : 26919.690476190477\n"
     ]
    }
   ],
   "source": [
    "def freq_table(dataset,index):\n",
    "    freq_table = {}\n",
    "    total = 0\n",
    "    for row in dataset:\n",
    "        total += 1\n",
    "        genre = row[index]\n",
    "        if genre in freq_table:\n",
    "            freq_table[genre] += 1\n",
    "\n",
    "        else: \n",
    "            freq_table[genre] = 1\n",
    "    return freq_table\n",
    "\n",
    "unique_genres = freq_table(ios_data_filtered,11)\n",
    "freq_table(ios_data_filtered,11)\n",
    "for uapp in unique_genres:\n",
    "    total = 0\n",
    "    len_genre = 0\n",
    "    for app in ios_data_filtered:\n",
    "        genre_app = app[-5]\n",
    "        if genre_app == uapp:\n",
    "            u_rating = float(app[5])\n",
    "            total += u_rating\n",
    "            len_genre += 1\n",
    "    avg_user_rating = total/len_genre\n",
    "    print(uapp,':',avg_user_rating)\n",
    "        "
   ]
  },
  {
   "cell_type": "code",
   "execution_count": 67,
   "metadata": {},
   "outputs": [
    {
     "name": "stdout",
     "output_type": "stream",
     "text": [
      "LIFESTYLE : 9549178.467741935\n",
      "LIFESTYLE : 542603.6206896552\n",
      "LIFESTYLE : 1387692.475609756\n",
      "LIFESTYLE : 1437816.2687861272\n",
      "LIFESTYLE : 3638640.1428571427\n",
      "LIFESTYLE : 120550.61980830671\n",
      "LIFESTYLE : 638503.734939759\n",
      "LIFESTYLE : 5074486.197183099\n",
      "LIFESTYLE : 8767811.894736841\n",
      "LIFESTYLE : 23253652.127118643\n",
      "LIFESTYLE : 4056941.7741935486\n",
      "LIFESTYLE : 15588015.603248259\n",
      "LIFESTYLE : 4188821.9853479853\n",
      "LIFESTYLE : 17840110.40229885\n",
      "LIFESTYLE : 13984077.710144928\n",
      "LIFESTYLE : 7036877.311557789\n",
      "LIFESTYLE : 3695641.8198090694\n",
      "LIFESTYLE : 1331540.5616438356\n",
      "LIFESTYLE : 513151.88679245283\n",
      "LIFESTYLE : 1833495.145631068\n",
      "LIFESTYLE : 1986335.0877192982\n",
      "LIFESTYLE : 24727872.452830188\n",
      "LIFESTYLE : 253542.22222222222\n",
      "LIFESTYLE : 10801391.298666667\n",
      "LIFESTYLE : 16787331.344927534\n",
      "LIFESTYLE : 854028.8303030303\n",
      "LIFESTYLE : 647317.8170731707\n",
      "LIFESTYLE : 817657.2727272727\n",
      "LIFESTYLE : 5201482.6122448975\n",
      "LIFESTYLE : 11640705.88235294\n",
      "LIFESTYLE : 1924897.7363636363\n",
      "LIFESTYLE : 38456119.167247385\n",
      "LIFESTYLE : 1712290.1474201474\n"
     ]
    }
   ],
   "source": [
    "unique_app_genre = freq_table(google_data_filtered,1)\n",
    "for category in unique_app_genre:\n",
    "    total = 0\n",
    "    len_category = 0\n",
    "    for app in google_data_filtered:\n",
    "        category_app = app[1]\n",
    "        if category_app == category:\n",
    "            installs = app[5]\n",
    "            installs =installs.replace('+','')\n",
    "            installs = float(installs.replace(',',''))\n",
    "            total += installs\n",
    "            len_category += 1\n",
    "    avg_installs = total/len_category\n",
    "    print(category_app,':',avg_installs)\n",
    "    "
   ]
  },
  {
   "cell_type": "code",
   "execution_count": null,
   "metadata": {
    "collapsed": true
   },
   "outputs": [],
   "source": []
  }
 ],
 "metadata": {
  "kernelspec": {
   "display_name": "Python 3",
   "language": "python",
   "name": "python3"
  },
  "language_info": {
   "codemirror_mode": {
    "name": "ipython",
    "version": 3
   },
   "file_extension": ".py",
   "mimetype": "text/x-python",
   "name": "python",
   "nbconvert_exporter": "python",
   "pygments_lexer": "ipython3",
   "version": "3.7.4"
  }
 },
 "nbformat": 4,
 "nbformat_minor": 2
}
